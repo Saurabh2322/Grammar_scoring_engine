{
 "cells": [
  {
   "cell_type": "code",
   "execution_count": null,
   "id": "e432b10b",
   "metadata": {},
   "outputs": [],
   "source": [
    "# 1. Imports and Configurations\n",
    "import os\n",
    "import pandas as pd\n",
    "import numpy as np\n",
    "import librosa\n",
    "import librosa.display\n",
    "import matplotlib.pyplot as plt\n",
    "import seaborn as sns\n",
    "\n",
    "from sklearn.model_selection import train_test_split\n",
    "from sklearn.metrics import mean_squared_error\n",
    "from scipy.stats import pearsonr\n",
    "\n",
    "from xgboost import XGBRegressor\n",
    "\n",
    "import warnings\n",
    "warnings.filterwarnings(\"ignore\")\n",
    "\n",
    "SEED = 42"
   ]
  },
  {
   "cell_type": "code",
   "execution_count": null,
   "id": "fdd0e197",
   "metadata": {},
   "outputs": [
    {
     "name": "stdout",
     "output_type": "stream",
     "text": [
      "Train shape: (444, 2)\n",
      "Test shape: (204, 1)\n"
     ]
    },
    {
     "data": {
      "text/html": [
       "<div>\n",
       "<style scoped>\n",
       "    .dataframe tbody tr th:only-of-type {\n",
       "        vertical-align: middle;\n",
       "    }\n",
       "\n",
       "    .dataframe tbody tr th {\n",
       "        vertical-align: top;\n",
       "    }\n",
       "\n",
       "    .dataframe thead th {\n",
       "        text-align: right;\n",
       "    }\n",
       "</style>\n",
       "<table border=\"1\" class=\"dataframe\">\n",
       "  <thead>\n",
       "    <tr style=\"text-align: right;\">\n",
       "      <th></th>\n",
       "      <th>filename</th>\n",
       "      <th>label</th>\n",
       "    </tr>\n",
       "  </thead>\n",
       "  <tbody>\n",
       "    <tr>\n",
       "      <th>0</th>\n",
       "      <td>audio_710.wav</td>\n",
       "      <td>1.0</td>\n",
       "    </tr>\n",
       "    <tr>\n",
       "      <th>1</th>\n",
       "      <td>audio_1265.wav</td>\n",
       "      <td>1.0</td>\n",
       "    </tr>\n",
       "    <tr>\n",
       "      <th>2</th>\n",
       "      <td>audio_1114.wav</td>\n",
       "      <td>1.5</td>\n",
       "    </tr>\n",
       "    <tr>\n",
       "      <th>3</th>\n",
       "      <td>audio_946.wav</td>\n",
       "      <td>1.5</td>\n",
       "    </tr>\n",
       "    <tr>\n",
       "      <th>4</th>\n",
       "      <td>audio_1127.wav</td>\n",
       "      <td>2.0</td>\n",
       "    </tr>\n",
       "  </tbody>\n",
       "</table>\n",
       "</div>"
      ],
      "text/plain": [
       "         filename  label\n",
       "0   audio_710.wav    1.0\n",
       "1  audio_1265.wav    1.0\n",
       "2  audio_1114.wav    1.5\n",
       "3   audio_946.wav    1.5\n",
       "4  audio_1127.wav    2.0"
      ]
     },
     "execution_count": 5,
     "metadata": {},
     "output_type": "execute_result"
    }
   ],
   "source": [
    "#2. Load Data\n",
    "train_df = pd.read_csv(\"./data/train.csv\")\n",
    "test_df = pd.read_csv(\"./data/test.csv\")\n",
    "sample_submission = pd.read_csv(\"./data/sample_submission.csv\")\n",
    "\n",
    "print(\"Train shape:\", train_df.shape)\n",
    "print(\"Test shape:\", test_df.shape)\n",
    "train_df.head()"
   ]
  },
  {
   "cell_type": "code",
   "execution_count": null,
   "id": "a9230649",
   "metadata": {},
   "outputs": [],
   "source": [
    "# 3. Feature Extraction from Audio\n",
    "def extract_features(file_path, sr=16000):\n",
    "    y, _ = librosa.load(file_path, sr=sr)\n",
    "    features = {}\n",
    "\n",
    "    features['zcr'] = np.mean(librosa.feature.zero_crossing_rate(y).T, axis=0)[0]\n",
    "    features['rmse'] = np.mean(librosa.feature.rms(y=y).T, axis=0)[0]\n",
    "    features['spectral_centroid'] = np.mean(librosa.feature.spectral_centroid(y=y, sr=sr).T, axis=0)[0]\n",
    "    features['spectral_bandwidth'] = np.mean(librosa.feature.spectral_bandwidth(y=y, sr=sr).T, axis=0)[0]\n",
    "    features['rolloff'] = np.mean(librosa.feature.spectral_rolloff(y=y, sr=sr).T, axis=0)[0]\n",
    "    features['mfcc_mean'] = np.mean(librosa.feature.mfcc(y=y, sr=sr, n_mfcc=13).T, axis=0)\n",
    "\n",
    "    for i, val in enumerate(features['mfcc_mean']):\n",
    "        features[f'mfcc_{i+1}'] = val\n",
    "    del features['mfcc_mean']\n",
    "\n",
    "    return features\n",
    "\n",
    "train_features = []\n",
    "for fname in train_df['filename']:\n",
    "    path = os.path.join(\"audio\", \"train\", fname)\n",
    "    feats = extract_features(path)\n",
    "    train_features.append(feats)\n",
    "\n",
    "X = pd.DataFrame(train_features)\n",
    "y = train_df['label']\n",
    "\n",
    "test_features = []\n",
    "for fname in test_df['filename']:\n",
    "    path = os.path.join(\"audio\", \"test\", fname)\n",
    "    feats = extract_features(path)\n",
    "    test_features.append(feats)\n",
    "\n",
    "X_test = pd.DataFrame(test_features)"
   ]
  },
  {
   "cell_type": "code",
   "execution_count": 9,
   "id": "ac683f68",
   "metadata": {},
   "outputs": [],
   "source": [
    "# 4. Train-Test Split\n",
    "X_train, X_val, y_train, y_val = train_test_split(X, y, test_size=0.2, random_state=SEED)"
   ]
  },
  {
   "cell_type": "code",
   "execution_count": null,
   "id": "1f7d9332",
   "metadata": {},
   "outputs": [
    {
     "name": "stdout",
     "output_type": "stream",
     "text": [
      "Training RMSE: 0.04955952813347457\n",
      "Validation RMSE: 0.9176034318445058\n",
      "Validation Pearson Correlation: 0.6769044134495888\n"
     ]
    }
   ],
   "source": [
    "# 5. Model Training - XGBoost\n",
    "model = XGBRegressor(n_estimators=100, learning_rate=0.1, random_state=SEED)\n",
    "model.fit(X_train, y_train)\n",
    "\n",
    "train_preds = model.predict(X_train)\n",
    "val_preds = model.predict(X_val)\n",
    "\n",
    "train_rmse = np.sqrt(mean_squared_error(y_train, train_preds))\n",
    "val_rmse = np.sqrt(mean_squared_error(y_val, val_preds))\n",
    "\n",
    "val_pearson = pearsonr(y_val, val_preds)[0]\n",
    "\n",
    "print(\"Training RMSE:\", train_rmse)\n",
    "print(\"Validation RMSE:\", val_rmse)\n",
    "print(\"Validation Pearson Correlation:\", val_pearson)"
   ]
  },
  {
   "cell_type": "code",
   "execution_count": null,
   "id": "50c13903",
   "metadata": {},
   "outputs": [
    {
     "data": {
      "image/png": "[encoded data removed]",
      "text/plain": [
       "<Figure size 800x600 with 1 Axes>"
      ]
     },
     "metadata": {},
     "output_type": "display_data"
    }
   ],
   "source": [
    "# 6. Visualizations\n",
    "plt.figure(figsize=(8,6))\n",
    "sns.scatterplot(x=y_val, y=val_preds)\n",
    "plt.xlabel(\"Actual Score\")\n",
    "plt.ylabel(\"Predicted Score\")\n",
    "plt.title(\"Validation: Actual vs Predicted\")\n",
    "plt.grid(True)\n",
    "plt.show()"
   ]
  },
  {
   "cell_type": "code",
   "execution_count": null,
   "id": "67514ff4",
   "metadata": {},
   "outputs": [],
   "source": [
    "# 7. Final Predictions and Submission\n",
    "test_preds = model.predict(X_test)\n",
    "sample_submission['score'] = test_preds\n",
    "sample_submission.to_csv(\"submission.csv\", index=False)"
   ]
  },
  {
   "cell_type": "code",
   "execution_count": 18,
   "id": "4cd254fe",
   "metadata": {},
   "outputs": [
    {
     "name": "stdout",
     "output_type": "stream",
     "text": [
      "\n",
      "# Report\n",
      "\n",
      "# Problem Statement:\n",
      "Predict the grammar score (0 to 5) of spoken audio samples using machine learning.\n",
      "\n",
      "# Preprocessing Steps:\n",
      "- Used Librosa to extract meaningful audio features:\n",
      "  - Zero-Crossing Rate\n",
      "  - Root Mean Square Energy\n",
      "  - Spectral Centroid, Bandwidth, Rolloff\n",
      "  - 13 MFCC coefficients\n",
      "- Standard sampling rate set to 16kHz.\n",
      "- Audio files stored inside 'audio/train/' and 'audio/test/' folders.\n",
      "\n",
      "# Pipeline Architecture:\n",
      "1. Extract features from `.wav` files\n",
      "2. Train/validation split (80/20)\n",
      "3. XGBoost Regressor trained on extracted features\n",
      "\n",
      "# Evaluation Results:\n",
      "- **Training RMSE**: 0.0496\n",
      "- **Validation RMSE**: 0.9176\n",
      "- **Validation Pearson Correlation**: 0.6769\n",
      "\n",
      "# Observations:\n",
      "- Basic handcrafted features give reasonable performance\n",
      "- Improvement expected with deep audio embeddings or fine-tuning audio-specific models (e.g., Wav2Vec2)\n",
      "\n",
      "\n"
     ]
    }
   ],
   "source": [
    "# 8. Brief Report\n",
    "report = f\"\"\"\n",
    "# Report\n",
    "\n",
    "# Problem Statement:\n",
    "Predict the grammar score (0 to 5) of spoken audio samples using machine learning.\n",
    "\n",
    "# Preprocessing Steps:\n",
    "- Used Librosa to extract meaningful audio features:\n",
    "  - Zero-Crossing Rate\n",
    "  - Root Mean Square Energy\n",
    "  - Spectral Centroid, Bandwidth, Rolloff\n",
    "  - 13 MFCC coefficients\n",
    "- Standard sampling rate set to 16kHz.\n",
    "- Audio files stored inside 'audio/train/' and 'audio/test/' folders.\n",
    "\n",
    "# Pipeline Architecture:\n",
    "1. Extract features from `.wav` files\n",
    "2. Train/validation split (80/20)\n",
    "3. XGBoost Regressor trained on extracted features\n",
    "\n",
    "# Evaluation Results:\n",
    "- **Training RMSE**: {train_rmse:.4f}\n",
    "- **Validation RMSE**: {val_rmse:.4f}\n",
    "- **Validation Pearson Correlation**: {val_pearson:.4f}\n",
    "\n",
    "# Observations:\n",
    "- Basic handcrafted features give reasonable performance\n",
    "- Improvement expected with deep audio embeddings or fine-tuning audio-specific models (e.g., Wav2Vec2)\n",
    "\n",
    "\"\"\"\n",
    "\n",
    "print(report)"
   ]
  }
 ],
 "metadata": {
  "kernelspec": {
   "display_name": "Python 3",
   "language": "python",
   "name": "python3"
  },
  "language_info": {
   "codemirror_mode": {
    "name": "ipython",
    "version": 3
   },
   "file_extension": ".py",
   "mimetype": "text/x-python",
   "name": "python",
   "nbconvert_exporter": "python",
   "pygments_lexer": "ipython3",
   "version": "3.11.9"
  }
 },
 "nbformat": 4,
 "nbformat_minor": 5
}
